{
 "metadata": {
  "language_info": {
   "codemirror_mode": {
    "name": "ipython",
    "version": 3
   },
   "file_extension": ".py",
   "mimetype": "text/x-python",
   "name": "python",
   "nbconvert_exporter": "python",
   "pygments_lexer": "ipython3",
   "version": "3.8.1-final"
  },
  "orig_nbformat": 2,
  "kernelspec": {
   "name": "python38132bitp1blogpipenva8241651e4354068bb7e1a17a093ceb9",
   "display_name": "Python 3.8.1 32-bit ('p1-blog': pipenv)"
  }
 },
 "nbformat": 4,
 "nbformat_minor": 2,
 "cells": [
  {
   "cell_type": "markdown",
   "metadata": {},
   "source": [
    "# My take on Stack Overflow Survey 2020\n",
    "\n",
    "Hi! My name is **Marcus**, and, upfront I want to thank you for your time assessing my code. This was coded for Project 1 of the Udacity\\'s Data Science Nanodegree. \n",
    "\n",
    "As you can see, I was deeply influenced by [Josh Bernhard's Medium post on how to become a programmer](https://medium.com/@josh_2774/how-do-you-become-a-developer-5ef1c1c68711). However, I'm more interested in descriptive analysis of the Doctoral degree holder type than in any predictive model. This is even more true when I realized that the recently published 2020's Stack Overflow survey's results are quite different than the 2017's one, notably with pratically no fields about how people broke into the field. Plus, one of the take aways from Josh's analyses was that this question is that there is no scientific-proven formula to break into the field. Additionally, I'm one of these degree holders looking forward to break into the industry and it wouldn't hurt to understand a bit further the influence of their field of origin in their outcome.\n",
    "\n",
    "You see, doctoral degrees varies a lot, especially in terms of programming experience and expertise. Someone with a degree in the humanities might not have to code a single line while someone from the computer science field will definitely have an edge. Thus, I'm deeply interested in knowing better my peers, especially the successfull ones. Who are they? What they are doing? What are their educational background? Do this background influences their outcome in job satisfaction and compensation?   \n",
    "\n",
    "Thus, here are my questions of interested, and how I pretend to present the data in my own blog post:\n",
    "\n",
    "Part I. Do you even work?\n",
    "\n",
    "1. What's the employment rate of the group and how does it compare with the other educational backgrounds?\n",
    "\n",
    "Part II. Ok, let's break it down.\n",
    "\n",
    "2. What's the employment rate per field of origin?\n",
    "3. What's the average programming experience, prior to first pro activity, per field of origin?\n",
    "4. What's the average compensation, prior to first pro activity, per field of origin?\n",
    "\n",
    "Part III. Is there a link between success and field of origin?\n",
    "\n",
    "5. For how long the successfull ones (compensation and job satisfaction) are coding, and what are their field of origin?\n",
    "\n",
    "For the sake of data exploration, I'll play a bit around with the data in this jupyter notebook befora tackling the questions at hand.\n"
   ]
  },
  {
   "cell_type": "code",
   "execution_count": 61,
   "metadata": {},
   "outputs": [],
   "source": [
    "import pandas as pd\n",
    "import numpy as np \n",
    "import matplotlib as plt\n",
    "%matplotlib inline"
   ]
  },
  {
   "cell_type": "code",
   "execution_count": 62,
   "metadata": {},
   "outputs": [
    {
     "output_type": "execute_result",
     "data": {
      "text/plain": "  ConvertedComp             Country  \\\n0           NaN             Germany   \n1           NaN      United Kingdom   \n2           NaN  Russian Federation   \n3           NaN             Albania   \n4           NaN       United States   \n\n                                             DevType  \\\n0  Developer, desktop or enterprise applications;...   \n1            Developer, full-stack;Developer, mobile   \n2                                                NaN   \n3                                                NaN   \n4                                                NaN   \n\n                                           EdLevel  \\\n0  Master’s degree (M.A., M.S., M.Eng., MBA, etc.)   \n1     Bachelor’s degree (B.A., B.S., B.Eng., etc.)   \n2                                              NaN   \n3  Master’s degree (M.A., M.S., M.Eng., MBA, etc.)   \n4     Bachelor’s degree (B.A., B.S., B.Eng., etc.)   \n\n                                          Employment  \\\n0  Independent contractor, freelancer, or self-em...   \n1                                 Employed full-time   \n2                                                NaN   \n3                                                NaN   \n4                                 Employed full-time   \n\n                                          JobFactors                 JobSat  \\\n0  Languages, frameworks, and other technologies ...     Slightly satisfied   \n1                                                NaN      Very dissatisfied   \n2                                                NaN                    NaN   \n3  Flex time or a flexible schedule;Office enviro...  Slightly dissatisfied   \n4                                                NaN                    NaN   \n\n                            NEWEdImpt       NEWLearn  \\\n0                    Fairly important    Once a year   \n1                    Fairly important    Once a year   \n2                                 NaN  Once a decade   \n3  Not at all important/not necessary    Once a year   \n4                      Very important    Once a year   \n\n                                      UndergradMajor WorkWeekHrs YearsCode  \\\n0  Computer science, computer engineering, or sof...          50        36   \n1  Computer science, computer engineering, or sof...         NaN         7   \n2                                                NaN         NaN         4   \n3  Computer science, computer engineering, or sof...          40         7   \n4  Computer science, computer engineering, or sof...         NaN        15   \n\n  YearsCodePro  \n0           27  \n1            4  \n2          NaN  \n3            4  \n4            8  ",
      "text/html": "<div>\n<style scoped>\n    .dataframe tbody tr th:only-of-type {\n        vertical-align: middle;\n    }\n\n    .dataframe tbody tr th {\n        vertical-align: top;\n    }\n\n    .dataframe thead th {\n        text-align: right;\n    }\n</style>\n<table border=\"1\" class=\"dataframe\">\n  <thead>\n    <tr style=\"text-align: right;\">\n      <th></th>\n      <th>ConvertedComp</th>\n      <th>Country</th>\n      <th>DevType</th>\n      <th>EdLevel</th>\n      <th>Employment</th>\n      <th>JobFactors</th>\n      <th>JobSat</th>\n      <th>NEWEdImpt</th>\n      <th>NEWLearn</th>\n      <th>UndergradMajor</th>\n      <th>WorkWeekHrs</th>\n      <th>YearsCode</th>\n      <th>YearsCodePro</th>\n    </tr>\n  </thead>\n  <tbody>\n    <tr>\n      <th>0</th>\n      <td>NaN</td>\n      <td>Germany</td>\n      <td>Developer, desktop or enterprise applications;...</td>\n      <td>Master’s degree (M.A., M.S., M.Eng., MBA, etc.)</td>\n      <td>Independent contractor, freelancer, or self-em...</td>\n      <td>Languages, frameworks, and other technologies ...</td>\n      <td>Slightly satisfied</td>\n      <td>Fairly important</td>\n      <td>Once a year</td>\n      <td>Computer science, computer engineering, or sof...</td>\n      <td>50</td>\n      <td>36</td>\n      <td>27</td>\n    </tr>\n    <tr>\n      <th>1</th>\n      <td>NaN</td>\n      <td>United Kingdom</td>\n      <td>Developer, full-stack;Developer, mobile</td>\n      <td>Bachelor’s degree (B.A., B.S., B.Eng., etc.)</td>\n      <td>Employed full-time</td>\n      <td>NaN</td>\n      <td>Very dissatisfied</td>\n      <td>Fairly important</td>\n      <td>Once a year</td>\n      <td>Computer science, computer engineering, or sof...</td>\n      <td>NaN</td>\n      <td>7</td>\n      <td>4</td>\n    </tr>\n    <tr>\n      <th>2</th>\n      <td>NaN</td>\n      <td>Russian Federation</td>\n      <td>NaN</td>\n      <td>NaN</td>\n      <td>NaN</td>\n      <td>NaN</td>\n      <td>NaN</td>\n      <td>NaN</td>\n      <td>Once a decade</td>\n      <td>NaN</td>\n      <td>NaN</td>\n      <td>4</td>\n      <td>NaN</td>\n    </tr>\n    <tr>\n      <th>3</th>\n      <td>NaN</td>\n      <td>Albania</td>\n      <td>NaN</td>\n      <td>Master’s degree (M.A., M.S., M.Eng., MBA, etc.)</td>\n      <td>NaN</td>\n      <td>Flex time or a flexible schedule;Office enviro...</td>\n      <td>Slightly dissatisfied</td>\n      <td>Not at all important/not necessary</td>\n      <td>Once a year</td>\n      <td>Computer science, computer engineering, or sof...</td>\n      <td>40</td>\n      <td>7</td>\n      <td>4</td>\n    </tr>\n    <tr>\n      <th>4</th>\n      <td>NaN</td>\n      <td>United States</td>\n      <td>NaN</td>\n      <td>Bachelor’s degree (B.A., B.S., B.Eng., etc.)</td>\n      <td>Employed full-time</td>\n      <td>NaN</td>\n      <td>NaN</td>\n      <td>Very important</td>\n      <td>Once a year</td>\n      <td>Computer science, computer engineering, or sof...</td>\n      <td>NaN</td>\n      <td>15</td>\n      <td>8</td>\n    </tr>\n  </tbody>\n</table>\n</div>"
     },
     "metadata": {},
     "execution_count": 62
    }
   ],
   "source": [
    "# Load data\n",
    "df = pd.read_csv('./data/survey_results_public.csv', dtype=str)\n",
    "\n",
    "# Select the columns of interest\n",
    "columns_of_interest = [\"ConvertedComp\", \"Country\", \"DevType\", \"EdLevel\", \"Employment\", \"JobFactors\", \"JobSat\", \"NEWEdImpt\", \"NEWLearn\", \"UndergradMajor\", \"WorkWeekHrs\", \"YearsCode\", \"YearsCodePro\"]\n",
    "\n",
    "df_narrowed = df[columns_of_interest]\n",
    "df_narrowed.head()\n",
    "\n",
    "df_narrowed.head()"
   ]
  },
  {
   "cell_type": "markdown",
   "metadata": {},
   "source": [
    "## Looking into my people\n",
    "By \"my people\" I meant the ones from Brazil, with a doctoral degree of any sort in the natural sciences."
   ]
  },
  {
   "cell_type": "code",
   "execution_count": 63,
   "metadata": {},
   "outputs": [
    {
     "output_type": "execute_result",
     "data": {
      "text/plain": "(26, 13)"
     },
     "metadata": {},
     "execution_count": 63
    }
   ],
   "source": [
    "# Checking how many like me are out there\n",
    "# First, I'm selecting the respondents who are from Brazil and hold a PhD or related degree\n",
    "\n",
    "df_like_me = df_narrowed[df_narrowed[\"Country\"] == \"Brazil\"][df_narrowed[\"EdLevel\"] == \"Other doctoral degree (Ph.D., Ed.D., etc.)\"]\n",
    "\n",
    "df_like_me.shape"
   ]
  },
  {
   "cell_type": "code",
   "execution_count": 64,
   "metadata": {},
   "outputs": [
    {
     "output_type": "execute_result",
     "data": {
      "text/plain": "Computer science, computer engineering, or software engineering                   12\nA natural science (such as biology, chemistry, physics, etc.)                      4\nMathematics or statistics                                                          2\nA business discipline (such as accounting, finance, marketing, etc.)               2\nA health science (such as nursing, pharmacy, radiology, etc.)                      2\nAnother engineering discipline (such as civil, electrical, mechanical, etc.)       2\nA social science (such as anthropology, psychology, political science, etc.)       1\nFine arts or performing arts (such as graphic design, music, studio art, etc.)     1\nName: UndergradMajor, dtype: int64"
     },
     "metadata": {},
     "execution_count": 64
    }
   ],
   "source": [
    "# Here, I'm trying to count the values of their field of origin\n",
    "df_like_me[\"UndergradMajor\"].value_counts()"
   ]
  },
  {
   "cell_type": "code",
   "execution_count": 65,
   "metadata": {},
   "outputs": [
    {
     "output_type": "execute_result",
     "data": {
      "text/plain": "      ConvertedComp Country  \\\n3934          22536  Brazil   \n15304         49476  Brazil   \n16823         32988  Brazil   \n18639         14568  Brazil   \n\n                                                 DevType  \\\n3934       Data scientist or machine learning specialist   \n15304                                                NaN   \n16823             Academic researcher;Educator;Scientist   \n18639  Data scientist or machine learning specialist;...   \n\n                                          EdLevel          Employment  \\\n3934   Other doctoral degree (Ph.D., Ed.D., etc.)  Employed full-time   \n15304  Other doctoral degree (Ph.D., Ed.D., etc.)  Employed full-time   \n16823  Other doctoral degree (Ph.D., Ed.D., etc.)  Employed full-time   \n18639  Other doctoral degree (Ph.D., Ed.D., etc.)  Employed full-time   \n\n                                              JobFactors  \\\n3934   Industry that I’d be working in;Diversity of t...   \n15304  Flex time or a flexible schedule;Remote work o...   \n16823  Specific department or team I’d be working on;...   \n18639  Languages, frameworks, and other technologies ...   \n\n                      JobSat                           NEWEdImpt  \\\n3934   Slightly dissatisfied                      Very important   \n15304  Slightly dissatisfied                Critically important   \n16823     Slightly satisfied  Not at all important/not necessary   \n18639     Slightly satisfied                    Fairly important   \n\n                   NEWLearn  \\\n3934       Every few months   \n15304  Once every few years   \n16823  Once every few years   \n18639           Once a year   \n\n                                          UndergradMajor WorkWeekHrs  \\\n3934   A natural science (such as biology, chemistry,...          40   \n15304  A natural science (such as biology, chemistry,...          40   \n16823  A natural science (such as biology, chemistry,...          40   \n18639  A natural science (such as biology, chemistry,...          44   \n\n      YearsCode YearsCodePro  \n3934          7            2  \n15304        35           13  \n16823        30           18  \n18639        11            6  ",
      "text/html": "<div>\n<style scoped>\n    .dataframe tbody tr th:only-of-type {\n        vertical-align: middle;\n    }\n\n    .dataframe tbody tr th {\n        vertical-align: top;\n    }\n\n    .dataframe thead th {\n        text-align: right;\n    }\n</style>\n<table border=\"1\" class=\"dataframe\">\n  <thead>\n    <tr style=\"text-align: right;\">\n      <th></th>\n      <th>ConvertedComp</th>\n      <th>Country</th>\n      <th>DevType</th>\n      <th>EdLevel</th>\n      <th>Employment</th>\n      <th>JobFactors</th>\n      <th>JobSat</th>\n      <th>NEWEdImpt</th>\n      <th>NEWLearn</th>\n      <th>UndergradMajor</th>\n      <th>WorkWeekHrs</th>\n      <th>YearsCode</th>\n      <th>YearsCodePro</th>\n    </tr>\n  </thead>\n  <tbody>\n    <tr>\n      <th>3934</th>\n      <td>22536</td>\n      <td>Brazil</td>\n      <td>Data scientist or machine learning specialist</td>\n      <td>Other doctoral degree (Ph.D., Ed.D., etc.)</td>\n      <td>Employed full-time</td>\n      <td>Industry that I’d be working in;Diversity of t...</td>\n      <td>Slightly dissatisfied</td>\n      <td>Very important</td>\n      <td>Every few months</td>\n      <td>A natural science (such as biology, chemistry,...</td>\n      <td>40</td>\n      <td>7</td>\n      <td>2</td>\n    </tr>\n    <tr>\n      <th>15304</th>\n      <td>49476</td>\n      <td>Brazil</td>\n      <td>NaN</td>\n      <td>Other doctoral degree (Ph.D., Ed.D., etc.)</td>\n      <td>Employed full-time</td>\n      <td>Flex time or a flexible schedule;Remote work o...</td>\n      <td>Slightly dissatisfied</td>\n      <td>Critically important</td>\n      <td>Once every few years</td>\n      <td>A natural science (such as biology, chemistry,...</td>\n      <td>40</td>\n      <td>35</td>\n      <td>13</td>\n    </tr>\n    <tr>\n      <th>16823</th>\n      <td>32988</td>\n      <td>Brazil</td>\n      <td>Academic researcher;Educator;Scientist</td>\n      <td>Other doctoral degree (Ph.D., Ed.D., etc.)</td>\n      <td>Employed full-time</td>\n      <td>Specific department or team I’d be working on;...</td>\n      <td>Slightly satisfied</td>\n      <td>Not at all important/not necessary</td>\n      <td>Once every few years</td>\n      <td>A natural science (such as biology, chemistry,...</td>\n      <td>40</td>\n      <td>30</td>\n      <td>18</td>\n    </tr>\n    <tr>\n      <th>18639</th>\n      <td>14568</td>\n      <td>Brazil</td>\n      <td>Data scientist or machine learning specialist;...</td>\n      <td>Other doctoral degree (Ph.D., Ed.D., etc.)</td>\n      <td>Employed full-time</td>\n      <td>Languages, frameworks, and other technologies ...</td>\n      <td>Slightly satisfied</td>\n      <td>Fairly important</td>\n      <td>Once a year</td>\n      <td>A natural science (such as biology, chemistry,...</td>\n      <td>44</td>\n      <td>11</td>\n      <td>6</td>\n    </tr>\n  </tbody>\n</table>\n</div>"
     },
     "metadata": {},
     "execution_count": 65
    }
   ],
   "source": [
    "# Take a closer look into the four that are more like me\n",
    "\n",
    "df_like_me[df[\"UndergradMajor\"] == \"A natural science (such as biology, chemistry, physics, etc.)\"]"
   ]
  },
  {
   "cell_type": "markdown",
   "metadata": {},
   "source": [
    "# General Data Preparation \n",
    "\n",
    "For all upcoming questions, I'll first considered only \"Employed full-time\", \"Independent contractor, freelancer, or self-employed\" and \"Employed part-time\" as \"Employed\". The rest will be considered \"Unemployed\". I'll use a custom function to build a dummy collumn summarizing these values like I just described.\n",
    "\n",
    "The resulting dataframe will be the base for all further data wrangling."
   ]
  },
  {
   "cell_type": "code",
   "execution_count": 66,
   "metadata": {},
   "outputs": [
    {
     "output_type": "execute_result",
     "data": {
      "text/plain": "Employed full-time                                      45270\nStudent                                                  7787\nIndependent contractor, freelancer, or self-employed     5672\nNot employed, but looking for work                       2343\nEmployed part-time                                       2217\nNot employed, and not looking for work                    322\nRetired                                                   243\nName: Employment, dtype: int64"
     },
     "metadata": {},
     "execution_count": 66
    }
   ],
   "source": [
    "# Check the value counts of \"Employment\"\n",
    "df_narrowed[\"Employment\"].value_counts()"
   ]
  },
  {
   "cell_type": "code",
   "execution_count": 67,
   "metadata": {},
   "outputs": [],
   "source": [
    "# A function that will convert to \"Employed\" if \"Employment\" is equal to \"Employed full-time\", \"Independent contractor, freelancer, or self-employed\", \"Employed part-time\"\n",
    "def employment_discrete(df):\n",
    "    \"\"\"\n",
    "    Return a list of converted values based on \"Employment\"\n",
    "    \"Employed full-time\", \"Independent contractor, freelancer, or self-employed\", \"Employed part-time\" will be converted to \"Employed\", the others to \"Unemployed\"\n",
    "\n",
    "    Parameters:\n",
    "    df (pd.dataframe): Data\n",
    "\n",
    "    Return:\n",
    "    list: List of converted values\n",
    "\n",
    "    \"\"\"\n",
    "    converted = []\n",
    "    employment = [\"Employed full-time\", \"Independent contractor, freelancer, or self-employed\", \"Employed part-time\"]\n",
    "\n",
    "    for entry in df[\"Employment\"]:\n",
    "        if str(entry) == \"nan\":\n",
    "            converted.append(\"NaN\")\n",
    "        elif str(entry) in employment:\n",
    "            converted.append(\"Employed\")\n",
    "        else:\n",
    "            converted.append(\"Unemployed\")\n",
    "    return converted"
   ]
  },
  {
   "cell_type": "code",
   "execution_count": 68,
   "metadata": {},
   "outputs": [],
   "source": [
    "# Create a new column, \"EmploymentStatus\", based on the converted values of \"Employment\"\n",
    "df_narrowed[\"EmploymentStatus\"] = employment_discrete(df_narrowed)"
   ]
  },
  {
   "cell_type": "markdown",
   "metadata": {},
   "source": [
    "## 1. How many of them are currently employed?\n",
    "\n",
    "Here, I'll compare the proportion of employed ones between the different educational background.\n",
    "\n",
    "1. I'll build a dataframe from the previously edited dataframe with the results grouped by \"EdLevel\" and its employment rate based on the counts of the EmploymentStatus dummy column.\n",
    "\n",
    "3. Finally, I'll create a bar chart showing the proportion of employment by educational level.\n"
   ]
  },
  {
   "cell_type": "code",
   "execution_count": 69,
   "metadata": {},
   "outputs": [
    {
     "output_type": "execute_result",
     "data": {
      "text/plain": "                                             EdLevel  EmploymentStatus\n0                Associate degree (A.A., A.S., etc.)          0.842105\n1       Bachelor’s degree (B.A., B.S., B.Eng., etc.)          0.887499\n2             I never completed any formal education          0.703854\n3    Master’s degree (M.A., M.S., M.Eng., MBA, etc.)          0.934487\n4         Other doctoral degree (Ph.D., Ed.D., etc.)          0.934911\n5                          Primary/elementary school          0.291180\n6                 Professional degree (JD, MD, etc.)          0.905000\n7  Secondary school (e.g. American high school, G...          0.465521\n8  Some college/university study without earning ...          0.770825",
      "text/html": "<div>\n<style scoped>\n    .dataframe tbody tr th:only-of-type {\n        vertical-align: middle;\n    }\n\n    .dataframe tbody tr th {\n        vertical-align: top;\n    }\n\n    .dataframe thead th {\n        text-align: right;\n    }\n</style>\n<table border=\"1\" class=\"dataframe\">\n  <thead>\n    <tr style=\"text-align: right;\">\n      <th></th>\n      <th>EdLevel</th>\n      <th>EmploymentStatus</th>\n    </tr>\n  </thead>\n  <tbody>\n    <tr>\n      <th>0</th>\n      <td>Associate degree (A.A., A.S., etc.)</td>\n      <td>0.842105</td>\n    </tr>\n    <tr>\n      <th>1</th>\n      <td>Bachelor’s degree (B.A., B.S., B.Eng., etc.)</td>\n      <td>0.887499</td>\n    </tr>\n    <tr>\n      <th>2</th>\n      <td>I never completed any formal education</td>\n      <td>0.703854</td>\n    </tr>\n    <tr>\n      <th>3</th>\n      <td>Master’s degree (M.A., M.S., M.Eng., MBA, etc.)</td>\n      <td>0.934487</td>\n    </tr>\n    <tr>\n      <th>4</th>\n      <td>Other doctoral degree (Ph.D., Ed.D., etc.)</td>\n      <td>0.934911</td>\n    </tr>\n    <tr>\n      <th>5</th>\n      <td>Primary/elementary school</td>\n      <td>0.291180</td>\n    </tr>\n    <tr>\n      <th>6</th>\n      <td>Professional degree (JD, MD, etc.)</td>\n      <td>0.905000</td>\n    </tr>\n    <tr>\n      <th>7</th>\n      <td>Secondary school (e.g. American high school, G...</td>\n      <td>0.465521</td>\n    </tr>\n    <tr>\n      <th>8</th>\n      <td>Some college/university study without earning ...</td>\n      <td>0.770825</td>\n    </tr>\n  </tbody>\n</table>\n</div>"
     },
     "metadata": {},
     "execution_count": 69
    }
   ],
   "source": [
    "# Create a new dataframe dividing the counts of \"EmploymentStatus\" = \"Employed\", grouped by \"EdLevel\", by the total count of \"EmploymentStatus\" based on \"EdLevel\"\n",
    "df_results01 = df_narrowed[[\"EdLevel\", \"EmploymentStatus\"]][df_narrowed[\"EmploymentStatus\"] == \"Employed\"].groupby(\"EdLevel\").count() / df_narrowed[[\"EdLevel\", \"EmploymentStatus\"]].groupby(\"EdLevel\").count()\n",
    "\n",
    "df_results01.reset_index()"
   ]
  },
  {
   "cell_type": "markdown",
   "metadata": {},
   "source": [
    "## 2. What's the employment rate per field of origin?\n",
    "\n",
    "Here, I'll compare the proportion of employed ones between the different field of origin of doctoral degree holders, exclusively. For that, I'll be using the transformed `df_narrowed`, to count on the \"EmploymentStatus\" column.\n",
    "\n",
    "1. Then, I'll build a dataframe selecting the specific \"EdLevel\" and grouping by \"MajorUndegrad\", counting the employment rate based on the counts of the \"EmploymentStatus\" dummy column.\n",
    "\n",
    "3. Finally, I'll build a radar chart showing the different employment rates based on the field of origin."
   ]
  },
  {
   "cell_type": "code",
   "execution_count": 70,
   "metadata": {},
   "outputs": [
    {
     "output_type": "execute_result",
     "data": {
      "text/plain": "                                       UndergradMajor  EmploymentStatus\n0   A business discipline (such as accounting, fin...          0.791667\n1   A health science (such as nursing, pharmacy, r...          0.809524\n2   A humanities discipline (such as literature, h...          0.948718\n3   A natural science (such as biology, chemistry,...          0.942857\n4   A social science (such as anthropology, psycho...          0.966667\n5   Another engineering discipline (such as civil,...          0.919786\n6   Computer science, computer engineering, or sof...          0.947899\n7   Fine arts or performing arts (such as graphic ...          0.888889\n8   Information systems, information technology, o...          0.852941\n9                           Mathematics or statistics          0.958580\n10                      Web development or web design          0.800000",
      "text/html": "<div>\n<style scoped>\n    .dataframe tbody tr th:only-of-type {\n        vertical-align: middle;\n    }\n\n    .dataframe tbody tr th {\n        vertical-align: top;\n    }\n\n    .dataframe thead th {\n        text-align: right;\n    }\n</style>\n<table border=\"1\" class=\"dataframe\">\n  <thead>\n    <tr style=\"text-align: right;\">\n      <th></th>\n      <th>UndergradMajor</th>\n      <th>EmploymentStatus</th>\n    </tr>\n  </thead>\n  <tbody>\n    <tr>\n      <th>0</th>\n      <td>A business discipline (such as accounting, fin...</td>\n      <td>0.791667</td>\n    </tr>\n    <tr>\n      <th>1</th>\n      <td>A health science (such as nursing, pharmacy, r...</td>\n      <td>0.809524</td>\n    </tr>\n    <tr>\n      <th>2</th>\n      <td>A humanities discipline (such as literature, h...</td>\n      <td>0.948718</td>\n    </tr>\n    <tr>\n      <th>3</th>\n      <td>A natural science (such as biology, chemistry,...</td>\n      <td>0.942857</td>\n    </tr>\n    <tr>\n      <th>4</th>\n      <td>A social science (such as anthropology, psycho...</td>\n      <td>0.966667</td>\n    </tr>\n    <tr>\n      <th>5</th>\n      <td>Another engineering discipline (such as civil,...</td>\n      <td>0.919786</td>\n    </tr>\n    <tr>\n      <th>6</th>\n      <td>Computer science, computer engineering, or sof...</td>\n      <td>0.947899</td>\n    </tr>\n    <tr>\n      <th>7</th>\n      <td>Fine arts or performing arts (such as graphic ...</td>\n      <td>0.888889</td>\n    </tr>\n    <tr>\n      <th>8</th>\n      <td>Information systems, information technology, o...</td>\n      <td>0.852941</td>\n    </tr>\n    <tr>\n      <th>9</th>\n      <td>Mathematics or statistics</td>\n      <td>0.958580</td>\n    </tr>\n    <tr>\n      <th>10</th>\n      <td>Web development or web design</td>\n      <td>0.800000</td>\n    </tr>\n  </tbody>\n</table>\n</div>"
     },
     "metadata": {},
     "execution_count": 70
    }
   ],
   "source": [
    "# Create a new dataframe dividing the counts of \"EmploymentStatus\" = \"Employed\", grouped by \"UndergradMajor\" when \"EdLevel\" equals to \"Other doctoral degre...\", by the total count of \"EmploymentStatus\" based on the same criteria\n",
    "df_results02 = df_narrowed[[\"UndergradMajor\", \"EmploymentStatus\"]][df_narrowed[\"EdLevel\"] == \"Other doctoral degree (Ph.D., Ed.D., etc.)\"][df_narrowed[\"EmploymentStatus\"] == \"Employed\"].groupby(\"UndergradMajor\").count()  / df_narrowed[[\"UndergradMajor\", \"EmploymentStatus\"]][df_narrowed[\"EdLevel\"] == \"Other doctoral degree (Ph.D., Ed.D., etc.)\"].groupby(\"UndergradMajor\").count()\n",
    "\n",
    "df_results02 = df_results02.drop(\"I never declared a major\").reset_index()\n",
    "\n",
    "df_results02"
   ]
  },
  {
   "cell_type": "markdown",
   "metadata": {},
   "source": [
    "# 3. What's the average programming experience, prior to first pro activity, per field of origin?\n",
    "\n",
    "It's not surprise that people from different fields of origin might have been exposed to different experiences, and that includes programming. So it's important to have a look on the programming experience of doctoral degree holders with different educational background in order to understand their employment rate in this industry. Thus, for that:\n",
    "\n",
    "1. First, I'll convert the columns \"YearsCode\" and \"YearsCodePro\" to float.\n",
    "\n",
    "2. Then, I'll create a dataframe selecting doctors from \"EdLevel\", and then passing the \"MajorUndergrad\" column and a new column calculated from the difference between \"YearsCode\" and \"YearsCodePro\". \n",
    "\n",
    "3. A horizontal bar chart will be used to display the averages per field of origin."
   ]
  },
  {
   "cell_type": "code",
   "execution_count": 71,
   "metadata": {},
   "outputs": [
    {
     "output_type": "execute_result",
     "data": {
      "text/plain": "                                       UndergradMajor  YearsDiff\n0   A business discipline (such as accounting, fin...       5.12\n1   A health science (such as nursing, pharmacy, r...      11.44\n2   A humanities discipline (such as literature, h...       7.10\n3   A natural science (such as biology, chemistry,...       8.79\n4   A social science (such as anthropology, psycho...       6.22\n5   Another engineering discipline (such as civil,...       9.74\n6   Computer science, computer engineering, or sof...       9.72\n7   Fine arts or performing arts (such as graphic ...      11.50\n8   Information systems, information technology, o...       7.16\n9                           Mathematics or statistics      10.06\n10                      Web development or web design       3.50",
      "text/html": "<div>\n<style scoped>\n    .dataframe tbody tr th:only-of-type {\n        vertical-align: middle;\n    }\n\n    .dataframe tbody tr th {\n        vertical-align: top;\n    }\n\n    .dataframe thead th {\n        text-align: right;\n    }\n</style>\n<table border=\"1\" class=\"dataframe\">\n  <thead>\n    <tr style=\"text-align: right;\">\n      <th></th>\n      <th>UndergradMajor</th>\n      <th>YearsDiff</th>\n    </tr>\n  </thead>\n  <tbody>\n    <tr>\n      <th>0</th>\n      <td>A business discipline (such as accounting, fin...</td>\n      <td>5.12</td>\n    </tr>\n    <tr>\n      <th>1</th>\n      <td>A health science (such as nursing, pharmacy, r...</td>\n      <td>11.44</td>\n    </tr>\n    <tr>\n      <th>2</th>\n      <td>A humanities discipline (such as literature, h...</td>\n      <td>7.10</td>\n    </tr>\n    <tr>\n      <th>3</th>\n      <td>A natural science (such as biology, chemistry,...</td>\n      <td>8.79</td>\n    </tr>\n    <tr>\n      <th>4</th>\n      <td>A social science (such as anthropology, psycho...</td>\n      <td>6.22</td>\n    </tr>\n    <tr>\n      <th>5</th>\n      <td>Another engineering discipline (such as civil,...</td>\n      <td>9.74</td>\n    </tr>\n    <tr>\n      <th>6</th>\n      <td>Computer science, computer engineering, or sof...</td>\n      <td>9.72</td>\n    </tr>\n    <tr>\n      <th>7</th>\n      <td>Fine arts or performing arts (such as graphic ...</td>\n      <td>11.50</td>\n    </tr>\n    <tr>\n      <th>8</th>\n      <td>Information systems, information technology, o...</td>\n      <td>7.16</td>\n    </tr>\n    <tr>\n      <th>9</th>\n      <td>Mathematics or statistics</td>\n      <td>10.06</td>\n    </tr>\n    <tr>\n      <th>10</th>\n      <td>Web development or web design</td>\n      <td>3.50</td>\n    </tr>\n  </tbody>\n</table>\n</div>"
     },
     "metadata": {},
     "execution_count": 71
    }
   ],
   "source": [
    "# Convert the columns YearsCode and YearsCodePro to a numeric type\n",
    "# Replace the values \"Less than 1 year\" and \"More than 50 years\" to something that can be subtracted. For the sake of simplicity, I'm replacing them for 1 and 50, respectivelly\n",
    "df_narrowed[\"YearsCode\"] = pd.to_numeric(df_narrowed[\"YearsCode\"].replace(\"Less than 1 year\", \"1\").replace(\"More than 50 years\", \"50\"))\n",
    "df_narrowed[\"YearsCodePro\"] = pd.to_numeric(df_narrowed[\"YearsCodePro\"].replace(\"Less than 1 year\", \"1\").replace(\"More than 50 years\", \"50\"))\n",
    "\n",
    "# Create a new column, \"YearsDiff\", to hold the difference between \"YearsCode\" and \"YearsCodePro\"\n",
    "df_narrowed[\"YearsDiff\"] = df_narrowed[\"YearsCode\"] - df_narrowed[\"YearsCodePro\"]\n",
    "\n",
    "# Filter the doctoral degree holders and \"YearsDiff\" >= 0, groupy by educational background and calculate the mean of \"YearsDiff\"\n",
    "df_results03 = df_narrowed[df_narrowed[\"EdLevel\"] == \"Other doctoral degree (Ph.D., Ed.D., etc.)\"][df_narrowed[\"YearsDiff\"] >= 0].groupby(\"UndergradMajor\")[\"YearsDiff\"].mean().round(2).reset_index()\n",
    "\n",
    "df_results03"
   ]
  },
  {
   "cell_type": "markdown",
   "metadata": {},
   "source": [
    "# 4. What's the average compensation per field of origin?\n",
    "\n",
    "Very similar to the previous question, however, instead of looking into the years of programming experience before the first professional activity in the field, I'll be looking at the sallary in USD. \n",
    "\n",
    "1. First, I'll convert the columns \"ConvertedComp\" to float.\n",
    "\n",
    "2. Then, I'll create a dataframe selecting doctors from \"EdLevel\", and then passing the \"MajorUndergrad\" column and \"ConvertedComp\". \n",
    "\n",
    "3. A horizontal bar chart will be used to display the averages per field of origin."
   ]
  },
  {
   "cell_type": "code",
   "execution_count": 72,
   "metadata": {},
   "outputs": [
    {
     "output_type": "execute_result",
     "data": {
      "text/plain": "                                       UndergradMajor  ConvertedComp\n0   A business discipline (such as accounting, fin...       52288.27\n1   A health science (such as nursing, pharmacy, r...       72568.08\n2   A humanities discipline (such as literature, h...       86511.89\n3   A natural science (such as biology, chemistry,...      112839.99\n4   A social science (such as anthropology, psycho...      174780.58\n5   Another engineering discipline (such as civil,...      133896.72\n6   Computer science, computer engineering, or sof...      124894.03\n7   Fine arts or performing arts (such as graphic ...       78741.17\n8   Information systems, information technology, o...      140409.71\n9                           Mathematics or statistics      129701.94\n10                      Web development or web design       43874.00",
      "text/html": "<div>\n<style scoped>\n    .dataframe tbody tr th:only-of-type {\n        vertical-align: middle;\n    }\n\n    .dataframe tbody tr th {\n        vertical-align: top;\n    }\n\n    .dataframe thead th {\n        text-align: right;\n    }\n</style>\n<table border=\"1\" class=\"dataframe\">\n  <thead>\n    <tr style=\"text-align: right;\">\n      <th></th>\n      <th>UndergradMajor</th>\n      <th>ConvertedComp</th>\n    </tr>\n  </thead>\n  <tbody>\n    <tr>\n      <th>0</th>\n      <td>A business discipline (such as accounting, fin...</td>\n      <td>52288.27</td>\n    </tr>\n    <tr>\n      <th>1</th>\n      <td>A health science (such as nursing, pharmacy, r...</td>\n      <td>72568.08</td>\n    </tr>\n    <tr>\n      <th>2</th>\n      <td>A humanities discipline (such as literature, h...</td>\n      <td>86511.89</td>\n    </tr>\n    <tr>\n      <th>3</th>\n      <td>A natural science (such as biology, chemistry,...</td>\n      <td>112839.99</td>\n    </tr>\n    <tr>\n      <th>4</th>\n      <td>A social science (such as anthropology, psycho...</td>\n      <td>174780.58</td>\n    </tr>\n    <tr>\n      <th>5</th>\n      <td>Another engineering discipline (such as civil,...</td>\n      <td>133896.72</td>\n    </tr>\n    <tr>\n      <th>6</th>\n      <td>Computer science, computer engineering, or sof...</td>\n      <td>124894.03</td>\n    </tr>\n    <tr>\n      <th>7</th>\n      <td>Fine arts or performing arts (such as graphic ...</td>\n      <td>78741.17</td>\n    </tr>\n    <tr>\n      <th>8</th>\n      <td>Information systems, information technology, o...</td>\n      <td>140409.71</td>\n    </tr>\n    <tr>\n      <th>9</th>\n      <td>Mathematics or statistics</td>\n      <td>129701.94</td>\n    </tr>\n    <tr>\n      <th>10</th>\n      <td>Web development or web design</td>\n      <td>43874.00</td>\n    </tr>\n  </tbody>\n</table>\n</div>"
     },
     "metadata": {},
     "execution_count": 72
    }
   ],
   "source": [
    "df_narrowed[\"ConvertedComp\"] = pd.to_numeric(df_narrowed[\"ConvertedComp\"])\n",
    "\n",
    "df_results04 = df_narrowed[df_narrowed[\"EdLevel\"] == \"Other doctoral degree (Ph.D., Ed.D., etc.)\"][df_narrowed[\"EmploymentStatus\"] == \"Employed\"].groupby(\"UndergradMajor\")[\"ConvertedComp\"].mean().round(2).reset_index()\n",
    "\n",
    "# This isn't needed anymore as there was no responded with \"UndergradMajor\" equals to \"I never declared a major\" had a paid position (\"EmploymentStatus\" = \"Employed\"), apparently \n",
    "# df_results04 = df_results04.drop(\"I never declared a major\").reset_index()\n",
    "\n",
    "df_results04"
   ]
  },
  {
   "cell_type": "markdown",
   "metadata": {},
   "source": [
    "## Social Sciences got the biggest piece of the cake? Is that right?\n",
    "It's interesting to see if these values are not being affected by smaller sampling for some of these educational backgrounds. The hypothesis is, if there aren't many respondents from, say, non-traditional coding majors like the ones in social sciences, the higher salary average could be explained by this small number and the fact that they might been outliers. A simple count would give us an idea."
   ]
  },
  {
   "cell_type": "code",
   "execution_count": 73,
   "metadata": {},
   "outputs": [
    {
     "output_type": "execute_result",
     "data": {
      "text/plain": "                                                index  UndergradMajor\n0   Computer science, computer engineering, or sof...           31582\n1   Another engineering discipline (such as civil,...            4754\n2   Information systems, information technology, o...            4071\n3   A natural science (such as biology, chemistry,...            2205\n4                           Mathematics or statistics            1849\n5                       Web development or web design            1789\n6   A business discipline (such as accounting, fin...            1375\n7   A humanities discipline (such as literature, h...            1007\n8   A social science (such as anthropology, psycho...             933\n9   Fine arts or performing arts (such as graphic ...             725\n10  A health science (such as nursing, pharmacy, r...             252",
      "text/html": "<div>\n<style scoped>\n    .dataframe tbody tr th:only-of-type {\n        vertical-align: middle;\n    }\n\n    .dataframe tbody tr th {\n        vertical-align: top;\n    }\n\n    .dataframe thead th {\n        text-align: right;\n    }\n</style>\n<table border=\"1\" class=\"dataframe\">\n  <thead>\n    <tr style=\"text-align: right;\">\n      <th></th>\n      <th>index</th>\n      <th>UndergradMajor</th>\n    </tr>\n  </thead>\n  <tbody>\n    <tr>\n      <th>0</th>\n      <td>Computer science, computer engineering, or sof...</td>\n      <td>31582</td>\n    </tr>\n    <tr>\n      <th>1</th>\n      <td>Another engineering discipline (such as civil,...</td>\n      <td>4754</td>\n    </tr>\n    <tr>\n      <th>2</th>\n      <td>Information systems, information technology, o...</td>\n      <td>4071</td>\n    </tr>\n    <tr>\n      <th>3</th>\n      <td>A natural science (such as biology, chemistry,...</td>\n      <td>2205</td>\n    </tr>\n    <tr>\n      <th>4</th>\n      <td>Mathematics or statistics</td>\n      <td>1849</td>\n    </tr>\n    <tr>\n      <th>5</th>\n      <td>Web development or web design</td>\n      <td>1789</td>\n    </tr>\n    <tr>\n      <th>6</th>\n      <td>A business discipline (such as accounting, fin...</td>\n      <td>1375</td>\n    </tr>\n    <tr>\n      <th>7</th>\n      <td>A humanities discipline (such as literature, h...</td>\n      <td>1007</td>\n    </tr>\n    <tr>\n      <th>8</th>\n      <td>A social science (such as anthropology, psycho...</td>\n      <td>933</td>\n    </tr>\n    <tr>\n      <th>9</th>\n      <td>Fine arts or performing arts (such as graphic ...</td>\n      <td>725</td>\n    </tr>\n    <tr>\n      <th>10</th>\n      <td>A health science (such as nursing, pharmacy, r...</td>\n      <td>252</td>\n    </tr>\n  </tbody>\n</table>\n</div>"
     },
     "metadata": {},
     "execution_count": 73
    }
   ],
   "source": [
    "df_narrowed[\"UndergradMajor\"].value_counts().drop(\"I never declared a major\").reset_index()"
   ]
  },
  {
   "cell_type": "markdown",
   "metadata": {},
   "source": [
    "# 5. For how long the successfull ones (compensation and job satisfaction) are coding, and what are their field of origin?\n",
    "\n",
    "Finally, I would like to take a look at the two variables more often related to success, compensation and job satisfaction, and how they are related to code experience and the field of origin. I'm basically adding job satisfaction into this pool, and providing one, summary chart (a 4-variable bubble chart).\n",
    "\n",
    "1. Similarly with what I did for general data preparation, I'll create a function to add a column that translates \"JobSat\" into numeric values.\n",
    "\n",
    "1. Then, I'll select the following columns for all doctoral degree holders: \"MajorUndergrad\", \"ConvertedComp\", \"YearsDiff\", \"JobSat\". \n",
    "\n",
    "2. Finally, I'll create a four-variable bubble chart, with \"JobSat\" x \"ConvertedComp\" on x and y, respectivelly, the bubble sizes defined by \"CodeExperience\" and colored according to \"MajorUndergrad\". Each educational background will be a data point in this chart."
   ]
  },
  {
   "cell_type": "code",
   "execution_count": 74,
   "metadata": {},
   "outputs": [],
   "source": [
    "# A function that will convert \"JobSat\" into a numeric, discrete column\n",
    "def jobsat_discrete(df):\n",
    "    \"\"\"\n",
    "    Return a list of converted values based on \"JobSat\"\n",
    "\n",
    "    Parameters:\n",
    "    df (pd.dataframe): Data\n",
    "\n",
    "    Return:\n",
    "    list: List of converted values\n",
    "\n",
    "    \"\"\"\n",
    "    converted = []\n",
    "\n",
    "    for entry in df[\"JobSat\"]:\n",
    "        if str(entry) == \"Very satisfied\":\n",
    "            converted.append(5)\n",
    "        elif str(entry) == \"Slightly satisfied\":\n",
    "            converted.append(4)\n",
    "        elif str(entry) == \"Slightly dissatisfied\":\n",
    "            converted.append(3)\n",
    "        elif str(entry) == \"Neither satisfied nor dissatisfied\":\n",
    "            converted.append(2)\n",
    "        else:\n",
    "            converted.append(1)\n",
    "\n",
    "    return converted"
   ]
  },
  {
   "cell_type": "code",
   "execution_count": 87,
   "metadata": {},
   "outputs": [
    {
     "output_type": "execute_result",
     "data": {
      "text/plain": "                                       UndergradMajor  JobSatConvert  \\\n0   A business discipline (such as accounting, fin...           3.11   \n1   A health science (such as nursing, pharmacy, r...           3.53   \n2   A humanities discipline (such as literature, h...           3.84   \n3   A natural science (such as biology, chemistry,...           3.82   \n4   A social science (such as anthropology, psycho...           3.71   \n5   Another engineering discipline (such as civil,...           3.71   \n6   Computer science, computer engineering, or sof...           3.70   \n7   Fine arts or performing arts (such as graphic ...           3.25   \n8   Information systems, information technology, o...           3.34   \n9                           Mathematics or statistics           3.68   \n10                      Web development or web design           3.50   \n\n    ConvertedComp  YearsDiff  \n0        52288.27       4.59  \n1        72568.08      11.44  \n2        86511.89       6.78  \n3       112839.99       8.76  \n4       174780.58       6.05  \n5       133896.72       9.52  \n6       124894.03       9.61  \n7        78741.17      11.50  \n8       140409.71       7.16  \n9       129701.94       9.99  \n10       43874.00       4.67  ",
      "text/html": "<div>\n<style scoped>\n    .dataframe tbody tr th:only-of-type {\n        vertical-align: middle;\n    }\n\n    .dataframe tbody tr th {\n        vertical-align: top;\n    }\n\n    .dataframe thead th {\n        text-align: right;\n    }\n</style>\n<table border=\"1\" class=\"dataframe\">\n  <thead>\n    <tr style=\"text-align: right;\">\n      <th></th>\n      <th>UndergradMajor</th>\n      <th>JobSatConvert</th>\n      <th>ConvertedComp</th>\n      <th>YearsDiff</th>\n    </tr>\n  </thead>\n  <tbody>\n    <tr>\n      <th>0</th>\n      <td>A business discipline (such as accounting, fin...</td>\n      <td>3.11</td>\n      <td>52288.27</td>\n      <td>4.59</td>\n    </tr>\n    <tr>\n      <th>1</th>\n      <td>A health science (such as nursing, pharmacy, r...</td>\n      <td>3.53</td>\n      <td>72568.08</td>\n      <td>11.44</td>\n    </tr>\n    <tr>\n      <th>2</th>\n      <td>A humanities discipline (such as literature, h...</td>\n      <td>3.84</td>\n      <td>86511.89</td>\n      <td>6.78</td>\n    </tr>\n    <tr>\n      <th>3</th>\n      <td>A natural science (such as biology, chemistry,...</td>\n      <td>3.82</td>\n      <td>112839.99</td>\n      <td>8.76</td>\n    </tr>\n    <tr>\n      <th>4</th>\n      <td>A social science (such as anthropology, psycho...</td>\n      <td>3.71</td>\n      <td>174780.58</td>\n      <td>6.05</td>\n    </tr>\n    <tr>\n      <th>5</th>\n      <td>Another engineering discipline (such as civil,...</td>\n      <td>3.71</td>\n      <td>133896.72</td>\n      <td>9.52</td>\n    </tr>\n    <tr>\n      <th>6</th>\n      <td>Computer science, computer engineering, or sof...</td>\n      <td>3.70</td>\n      <td>124894.03</td>\n      <td>9.61</td>\n    </tr>\n    <tr>\n      <th>7</th>\n      <td>Fine arts or performing arts (such as graphic ...</td>\n      <td>3.25</td>\n      <td>78741.17</td>\n      <td>11.50</td>\n    </tr>\n    <tr>\n      <th>8</th>\n      <td>Information systems, information technology, o...</td>\n      <td>3.34</td>\n      <td>140409.71</td>\n      <td>7.16</td>\n    </tr>\n    <tr>\n      <th>9</th>\n      <td>Mathematics or statistics</td>\n      <td>3.68</td>\n      <td>129701.94</td>\n      <td>9.99</td>\n    </tr>\n    <tr>\n      <th>10</th>\n      <td>Web development or web design</td>\n      <td>3.50</td>\n      <td>43874.00</td>\n      <td>4.67</td>\n    </tr>\n  </tbody>\n</table>\n</div>"
     },
     "metadata": {},
     "execution_count": 87
    }
   ],
   "source": [
    "df_results05 = df_narrowed[df_narrowed[\"EdLevel\"] == \"Other doctoral degree (Ph.D., Ed.D., etc.)\"][df_narrowed[\"EmploymentStatus\"] == \"Employed\"][[\"UndergradMajor\", \"ConvertedComp\", \"JobSat\", \"YearsDiff\"]]\n",
    "\n",
    "df_results05[\"JobSatConvert\"] = jobsat_discrete(df_results05)\n",
    "\n",
    "df_results05 = df_results05.groupby(\"UndergradMajor\").mean().round(2).reset_index()\n",
    "\n",
    "df_results05 = df_results05[[\"UndergradMajor\", \"JobSatConvert\", \"ConvertedComp\", \"YearsDiff\"]]\n",
    "\n",
    "df_results05"
   ]
  }
 ]
}