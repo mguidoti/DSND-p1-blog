{
 "metadata": {
  "language_info": {
   "codemirror_mode": {
    "name": "ipython",
    "version": 3
   },
   "file_extension": ".py",
   "mimetype": "text/x-python",
   "name": "python",
   "nbconvert_exporter": "python",
   "pygments_lexer": "ipython3",
   "version": "3.8.1-final"
  },
  "orig_nbformat": 2,
  "kernelspec": {
   "name": "python38132bitp1blogpipenva8241651e4354068bb7e1a17a093ceb9",
   "display_name": "Python 3.8.1 32-bit ('p1-blog': pipenv)"
  }
 },
 "nbformat": 4,
 "nbformat_minor": 2,
 "cells": [
  {
   "cell_type": "markdown",
   "metadata": {},
   "source": [
    "# My take on Stack Overflow Survey 2020\n",
    "\n",
    "Hi! My name is **Marcus**, and, upfront I want to thank you for your time assessing my code. This was coded for Project 1 of the Udacity\\'s Data Science Nanodegree. \n",
    "\n",
    "As you can see, I was deeply influenced by [Josh Bernhard's Medium post on how to become a programmer](https://medium.com/@josh_2774/how-do-you-become-a-developer-5ef1c1c68711). However, I'm more interested in descriptive analysis of the Doctoral degree holder type than in any predictive model. This is even more true when I realized that the recently published 2020's Stack Overflow survey's results are quite different than the 2017's one, notably with pratically no fields about how people broke into the field. Plus, one of the take aways from Josh's analyses was that this question is that there is no scientific-proven formula to break into the field. Additionally, I'm one of these degree holders looking forward to break into the industry and it wouldn't hurt to understand a bit further the influence of their field of origin in their outcome.\n",
    "\n",
    "You see, doctoral degrees varies a lot, especially in terms of programming experience and expertise. Someone with a degree in the humanities might not have to code a single line while someone from the computer science field will definitely have an edge. Thus, I'm deeply interested in knowing better my peers, especially the successfull ones. Who are they? What they are doing? What are their educational background? Do this background influences their outcome in job satisfaction and compensation?   \n",
    "\n",
    "Thus, here are my questions of interested, and how I pretend to present the data in my own blog post:\n",
    "\n",
    "Part I. Do you even work?\n",
    "\n",
    "1. What's the employment rate of the group and how does it compare with the other educational backgrounds?\n",
    "\n",
    "Part II. Ok, let's break it down.\n",
    "\n",
    "2. What's the employment rate per field of origin?\n",
    "3. What's the average programming experience, prior to first pro activity, per field of origin?\n",
    "4. What's the average compensation, prior to first pro activity, per field of origin?\n",
    "\n",
    "Part III. Is there a link between success and field of origin?\n",
    "\n",
    "5. For how long the successfull ones (compensation and job satisfaction) are coding, and what are their field of origin?\n",
    "\n",
    "For the sake of data exploration, I'll play a bit around with the data in this jupyter notebook befora tackling the questions at hand.\n"
   ]
  },
  {
   "cell_type": "code",
   "execution_count": 1,
   "metadata": {},
   "outputs": [],
   "source": [
    "import pandas as pd\n",
    "import numpy as np \n",
    "import matplotlib as plt\n",
    "%matplotlib inline"
   ]
  },
  {
   "cell_type": "code",
   "execution_count": 2,
   "metadata": {},
   "outputs": [
    {
     "output_type": "execute_result",
     "data": {
      "text/plain": "  ConvertedComp             Country  \\\n0           NaN             Germany   \n1           NaN      United Kingdom   \n2           NaN  Russian Federation   \n3           NaN             Albania   \n4           NaN       United States   \n\n                                             DevType  \\\n0  Developer, desktop or enterprise applications;...   \n1            Developer, full-stack;Developer, mobile   \n2                                                NaN   \n3                                                NaN   \n4                                                NaN   \n\n                                           EdLevel  \\\n0  Master’s degree (M.A., M.S., M.Eng., MBA, etc.)   \n1     Bachelor’s degree (B.A., B.S., B.Eng., etc.)   \n2                                              NaN   \n3  Master’s degree (M.A., M.S., M.Eng., MBA, etc.)   \n4     Bachelor’s degree (B.A., B.S., B.Eng., etc.)   \n\n                                          Employment  \\\n0  Independent contractor, freelancer, or self-em...   \n1                                 Employed full-time   \n2                                                NaN   \n3                                                NaN   \n4                                 Employed full-time   \n\n                                          JobFactors                 JobSat  \\\n0  Languages, frameworks, and other technologies ...     Slightly satisfied   \n1                                                NaN      Very dissatisfied   \n2                                                NaN                    NaN   \n3  Flex time or a flexible schedule;Office enviro...  Slightly dissatisfied   \n4                                                NaN                    NaN   \n\n                            NEWEdImpt       NEWLearn  \\\n0                    Fairly important    Once a year   \n1                    Fairly important    Once a year   \n2                                 NaN  Once a decade   \n3  Not at all important/not necessary    Once a year   \n4                      Very important    Once a year   \n\n                                      UndergradMajor WorkWeekHrs YearsCode  \\\n0  Computer science, computer engineering, or sof...          50        36   \n1  Computer science, computer engineering, or sof...         NaN         7   \n2                                                NaN         NaN         4   \n3  Computer science, computer engineering, or sof...          40         7   \n4  Computer science, computer engineering, or sof...         NaN        15   \n\n  YearsCodePro  \n0           27  \n1            4  \n2          NaN  \n3            4  \n4            8  ",
      "text/html": "<div>\n<style scoped>\n    .dataframe tbody tr th:only-of-type {\n        vertical-align: middle;\n    }\n\n    .dataframe tbody tr th {\n        vertical-align: top;\n    }\n\n    .dataframe thead th {\n        text-align: right;\n    }\n</style>\n<table border=\"1\" class=\"dataframe\">\n  <thead>\n    <tr style=\"text-align: right;\">\n      <th></th>\n      <th>ConvertedComp</th>\n      <th>Country</th>\n      <th>DevType</th>\n      <th>EdLevel</th>\n      <th>Employment</th>\n      <th>JobFactors</th>\n      <th>JobSat</th>\n      <th>NEWEdImpt</th>\n      <th>NEWLearn</th>\n      <th>UndergradMajor</th>\n      <th>WorkWeekHrs</th>\n      <th>YearsCode</th>\n      <th>YearsCodePro</th>\n    </tr>\n  </thead>\n  <tbody>\n    <tr>\n      <th>0</th>\n      <td>NaN</td>\n      <td>Germany</td>\n      <td>Developer, desktop or enterprise applications;...</td>\n      <td>Master’s degree (M.A., M.S., M.Eng., MBA, etc.)</td>\n      <td>Independent contractor, freelancer, or self-em...</td>\n      <td>Languages, frameworks, and other technologies ...</td>\n      <td>Slightly satisfied</td>\n      <td>Fairly important</td>\n      <td>Once a year</td>\n      <td>Computer science, computer engineering, or sof...</td>\n      <td>50</td>\n      <td>36</td>\n      <td>27</td>\n    </tr>\n    <tr>\n      <th>1</th>\n      <td>NaN</td>\n      <td>United Kingdom</td>\n      <td>Developer, full-stack;Developer, mobile</td>\n      <td>Bachelor’s degree (B.A., B.S., B.Eng., etc.)</td>\n      <td>Employed full-time</td>\n      <td>NaN</td>\n      <td>Very dissatisfied</td>\n      <td>Fairly important</td>\n      <td>Once a year</td>\n      <td>Computer science, computer engineering, or sof...</td>\n      <td>NaN</td>\n      <td>7</td>\n      <td>4</td>\n    </tr>\n    <tr>\n      <th>2</th>\n      <td>NaN</td>\n      <td>Russian Federation</td>\n      <td>NaN</td>\n      <td>NaN</td>\n      <td>NaN</td>\n      <td>NaN</td>\n      <td>NaN</td>\n      <td>NaN</td>\n      <td>Once a decade</td>\n      <td>NaN</td>\n      <td>NaN</td>\n      <td>4</td>\n      <td>NaN</td>\n    </tr>\n    <tr>\n      <th>3</th>\n      <td>NaN</td>\n      <td>Albania</td>\n      <td>NaN</td>\n      <td>Master’s degree (M.A., M.S., M.Eng., MBA, etc.)</td>\n      <td>NaN</td>\n      <td>Flex time or a flexible schedule;Office enviro...</td>\n      <td>Slightly dissatisfied</td>\n      <td>Not at all important/not necessary</td>\n      <td>Once a year</td>\n      <td>Computer science, computer engineering, or sof...</td>\n      <td>40</td>\n      <td>7</td>\n      <td>4</td>\n    </tr>\n    <tr>\n      <th>4</th>\n      <td>NaN</td>\n      <td>United States</td>\n      <td>NaN</td>\n      <td>Bachelor’s degree (B.A., B.S., B.Eng., etc.)</td>\n      <td>Employed full-time</td>\n      <td>NaN</td>\n      <td>NaN</td>\n      <td>Very important</td>\n      <td>Once a year</td>\n      <td>Computer science, computer engineering, or sof...</td>\n      <td>NaN</td>\n      <td>15</td>\n      <td>8</td>\n    </tr>\n  </tbody>\n</table>\n</div>"
     },
     "metadata": {},
     "execution_count": 2
    }
   ],
   "source": [
    "# Load data\n",
    "df = pd.read_csv('./data/survey_results_public.csv', dtype=str)\n",
    "\n",
    "# Select the columns of interest\n",
    "columns_of_interest = [\"ConvertedComp\", \"Country\", \"DevType\", \"EdLevel\", \"Employment\", \"JobFactors\", \"JobSat\", \"NEWEdImpt\", \"NEWLearn\", \"UndergradMajor\", \"WorkWeekHrs\", \"YearsCode\", \"YearsCodePro\"]\n",
    "\n",
    "df_narrowed = df[columns_of_interest]\n",
    "df_narrowed.head()\n",
    "\n",
    "df_narrowed.head()"
   ]
  },
  {
   "cell_type": "markdown",
   "metadata": {},
   "source": [
    "## Looking into my people\n",
    "By \"my people\" I meant the ones from Brazil, with a doctoral degree of any sort in the natural sciences."
   ]
  },
  {
   "cell_type": "code",
   "execution_count": 4,
   "metadata": {},
   "outputs": [
    {
     "output_type": "execute_result",
     "data": {
      "text/plain": "(26, 13)"
     },
     "metadata": {},
     "execution_count": 4
    }
   ],
   "source": [
    "# Checking how many like me are out there\n",
    "# First, I'm selecting the respondents who are from Brazil and hold a PhD or related degree\n",
    "\n",
    "df_like_me = df_narrowed[df_narrowed[\"Country\"] == \"Brazil\"][df_narrowed[\"EdLevel\"] == \"Other doctoral degree (Ph.D., Ed.D., etc.)\"]\n",
    "\n",
    "df_like_me.shape"
   ]
  },
  {
   "cell_type": "code",
   "execution_count": 6,
   "metadata": {},
   "outputs": [
    {
     "output_type": "execute_result",
     "data": {
      "text/plain": "Computer science, computer engineering, or software engineering                   12\nA natural science (such as biology, chemistry, physics, etc.)                      4\nA health science (such as nursing, pharmacy, radiology, etc.)                      2\nAnother engineering discipline (such as civil, electrical, mechanical, etc.)       2\nA business discipline (such as accounting, finance, marketing, etc.)               2\nMathematics or statistics                                                          2\nA social science (such as anthropology, psychology, political science, etc.)       1\nFine arts or performing arts (such as graphic design, music, studio art, etc.)     1\nName: UndergradMajor, dtype: int64"
     },
     "metadata": {},
     "execution_count": 6
    }
   ],
   "source": [
    "# Here, I'm trying to count the values of their field of origin\n",
    "df_like_me[\"UndergradMajor\"].value_counts()"
   ]
  },
  {
   "cell_type": "code",
   "execution_count": 8,
   "metadata": {},
   "outputs": [
    {
     "output_type": "execute_result",
     "data": {
      "text/plain": "      ConvertedComp Country  \\\n3934          22536  Brazil   \n15304         49476  Brazil   \n16823         32988  Brazil   \n18639         14568  Brazil   \n\n                                                 DevType  \\\n3934       Data scientist or machine learning specialist   \n15304                                                NaN   \n16823             Academic researcher;Educator;Scientist   \n18639  Data scientist or machine learning specialist;...   \n\n                                          EdLevel          Employment  \\\n3934   Other doctoral degree (Ph.D., Ed.D., etc.)  Employed full-time   \n15304  Other doctoral degree (Ph.D., Ed.D., etc.)  Employed full-time   \n16823  Other doctoral degree (Ph.D., Ed.D., etc.)  Employed full-time   \n18639  Other doctoral degree (Ph.D., Ed.D., etc.)  Employed full-time   \n\n                                              JobFactors  \\\n3934   Industry that I’d be working in;Diversity of t...   \n15304  Flex time or a flexible schedule;Remote work o...   \n16823  Specific department or team I’d be working on;...   \n18639  Languages, frameworks, and other technologies ...   \n\n                      JobSat                           NEWEdImpt  \\\n3934   Slightly dissatisfied                      Very important   \n15304  Slightly dissatisfied                Critically important   \n16823     Slightly satisfied  Not at all important/not necessary   \n18639     Slightly satisfied                    Fairly important   \n\n                   NEWLearn  \\\n3934       Every few months   \n15304  Once every few years   \n16823  Once every few years   \n18639           Once a year   \n\n                                          UndergradMajor WorkWeekHrs  \\\n3934   A natural science (such as biology, chemistry,...          40   \n15304  A natural science (such as biology, chemistry,...          40   \n16823  A natural science (such as biology, chemistry,...          40   \n18639  A natural science (such as biology, chemistry,...          44   \n\n      YearsCode YearsCodePro  \n3934          7            2  \n15304        35           13  \n16823        30           18  \n18639        11            6  ",
      "text/html": "<div>\n<style scoped>\n    .dataframe tbody tr th:only-of-type {\n        vertical-align: middle;\n    }\n\n    .dataframe tbody tr th {\n        vertical-align: top;\n    }\n\n    .dataframe thead th {\n        text-align: right;\n    }\n</style>\n<table border=\"1\" class=\"dataframe\">\n  <thead>\n    <tr style=\"text-align: right;\">\n      <th></th>\n      <th>ConvertedComp</th>\n      <th>Country</th>\n      <th>DevType</th>\n      <th>EdLevel</th>\n      <th>Employment</th>\n      <th>JobFactors</th>\n      <th>JobSat</th>\n      <th>NEWEdImpt</th>\n      <th>NEWLearn</th>\n      <th>UndergradMajor</th>\n      <th>WorkWeekHrs</th>\n      <th>YearsCode</th>\n      <th>YearsCodePro</th>\n    </tr>\n  </thead>\n  <tbody>\n    <tr>\n      <th>3934</th>\n      <td>22536</td>\n      <td>Brazil</td>\n      <td>Data scientist or machine learning specialist</td>\n      <td>Other doctoral degree (Ph.D., Ed.D., etc.)</td>\n      <td>Employed full-time</td>\n      <td>Industry that I’d be working in;Diversity of t...</td>\n      <td>Slightly dissatisfied</td>\n      <td>Very important</td>\n      <td>Every few months</td>\n      <td>A natural science (such as biology, chemistry,...</td>\n      <td>40</td>\n      <td>7</td>\n      <td>2</td>\n    </tr>\n    <tr>\n      <th>15304</th>\n      <td>49476</td>\n      <td>Brazil</td>\n      <td>NaN</td>\n      <td>Other doctoral degree (Ph.D., Ed.D., etc.)</td>\n      <td>Employed full-time</td>\n      <td>Flex time or a flexible schedule;Remote work o...</td>\n      <td>Slightly dissatisfied</td>\n      <td>Critically important</td>\n      <td>Once every few years</td>\n      <td>A natural science (such as biology, chemistry,...</td>\n      <td>40</td>\n      <td>35</td>\n      <td>13</td>\n    </tr>\n    <tr>\n      <th>16823</th>\n      <td>32988</td>\n      <td>Brazil</td>\n      <td>Academic researcher;Educator;Scientist</td>\n      <td>Other doctoral degree (Ph.D., Ed.D., etc.)</td>\n      <td>Employed full-time</td>\n      <td>Specific department or team I’d be working on;...</td>\n      <td>Slightly satisfied</td>\n      <td>Not at all important/not necessary</td>\n      <td>Once every few years</td>\n      <td>A natural science (such as biology, chemistry,...</td>\n      <td>40</td>\n      <td>30</td>\n      <td>18</td>\n    </tr>\n    <tr>\n      <th>18639</th>\n      <td>14568</td>\n      <td>Brazil</td>\n      <td>Data scientist or machine learning specialist;...</td>\n      <td>Other doctoral degree (Ph.D., Ed.D., etc.)</td>\n      <td>Employed full-time</td>\n      <td>Languages, frameworks, and other technologies ...</td>\n      <td>Slightly satisfied</td>\n      <td>Fairly important</td>\n      <td>Once a year</td>\n      <td>A natural science (such as biology, chemistry,...</td>\n      <td>44</td>\n      <td>11</td>\n      <td>6</td>\n    </tr>\n  </tbody>\n</table>\n</div>"
     },
     "metadata": {},
     "execution_count": 8
    }
   ],
   "source": [
    "# Take a closer look into the four that are more like me\n",
    "\n",
    "df_like_me[df[\"UndergradMajor\"] == \"A natural science (such as biology, chemistry, physics, etc.)\"]"
   ]
  },
  {
   "cell_type": "markdown",
   "metadata": {},
   "source": [
    "## 1. How many of them are currently employed?\n",
    "\n",
    "Here, I'll compare the proportion of employed ones between the different educational background.\n",
    "\n",
    "1. For that, I'll first considered only \"Employed full-time\", \"Independent contractor, freelancer, or self-employed\" and \"Employed part-time\" as \"Employed\". The rest will be considered \"Unemployed\". I'll use a custom function to build a dummy collumn summarizing these values like I just described. \n",
    "\n",
    "2. Then, I'll build a dataframe with the results grouped by \"EdLevel\" and its employment rate based on the counts of the EmploymentStatus dummy column.\n",
    "\n",
    "3. Finally, I'll create a bar chart showing the proportion of employment by educational level.\n"
   ]
  },
  {
   "cell_type": "code",
   "execution_count": 9,
   "metadata": {},
   "outputs": [
    {
     "output_type": "execute_result",
     "data": {
      "text/plain": "Employed full-time                                      45270\nStudent                                                  7787\nIndependent contractor, freelancer, or self-employed     5672\nNot employed, but looking for work                       2343\nEmployed part-time                                       2217\nNot employed, and not looking for work                    322\nRetired                                                   243\nName: Employment, dtype: int64"
     },
     "metadata": {},
     "execution_count": 9
    }
   ],
   "source": [
    "# Check the value counts of \"Employment\"\n",
    "df_narrowed[\"Employment\"].value_counts()"
   ]
  },
  {
   "cell_type": "code",
   "execution_count": 16,
   "metadata": {},
   "outputs": [],
   "source": [
    "# A function that will convert to \"Employed\" if \"Employment\" is equal to \"Employed full-time\", \"Independent contractor, freelancer, or self-employed\", \"Employed part-time\"\n",
    "def employment_discrete(df):\n",
    "    \"\"\"\n",
    "    Return a list of converted values based on \"Employment\"\n",
    "    \"Employed full-time\", \"Independent contractor, freelancer, or self-employed\", \"Employed part-time\" will be converted to \"Employed\", the others to \"Unemployed\"\n",
    "\n",
    "    Parameters:\n",
    "    df (pd.dataframe): Data\n",
    "\n",
    "    Return:\n",
    "    list: List of converted values\n",
    "\n",
    "    \"\"\"\n",
    "    converted = []\n",
    "    employment = [\"Employed full-time\", \"Independent contractor, freelancer, or self-employed\", \"Employed part-time\"]\n",
    "\n",
    "    for entry in df[\"Employment\"]:\n",
    "        if str(entry) == \"nan\":\n",
    "            converted.append(\"NaN\")\n",
    "        elif str(entry) in employment:\n",
    "            converted.append(\"Employed\")\n",
    "        else:\n",
    "            converted.append(\"Unemployed\")\n",
    "    return converted"
   ]
  },
  {
   "cell_type": "code",
   "execution_count": 18,
   "metadata": {},
   "outputs": [],
   "source": [
    "# Create a new column, \"EmploymentStatus\", based on the converted values of \"Employment\"\n",
    "df_narrowed[\"EmploymentStatus\"] = employment_discrete(df_narrowed)"
   ]
  },
  {
   "cell_type": "code",
   "execution_count": 20,
   "metadata": {},
   "outputs": [
    {
     "output_type": "execute_result",
     "data": {
      "text/plain": "                                                    EmploymentStatus\nEdLevel                                                             \nAssociate degree (A.A., A.S., etc.)                         0.842105\nBachelor’s degree (B.A., B.S., B.Eng., etc.)                0.887499\nI never completed any formal education                      0.703854\nMaster’s degree (M.A., M.S., M.Eng., MBA, etc.)             0.934487\nOther doctoral degree (Ph.D., Ed.D., etc.)                  0.934911\nPrimary/elementary school                                   0.291180\nProfessional degree (JD, MD, etc.)                          0.905000\nSecondary school (e.g. American high school, Ge...          0.465521\nSome college/university study without earning a...          0.770825",
      "text/html": "<div>\n<style scoped>\n    .dataframe tbody tr th:only-of-type {\n        vertical-align: middle;\n    }\n\n    .dataframe tbody tr th {\n        vertical-align: top;\n    }\n\n    .dataframe thead th {\n        text-align: right;\n    }\n</style>\n<table border=\"1\" class=\"dataframe\">\n  <thead>\n    <tr style=\"text-align: right;\">\n      <th></th>\n      <th>EmploymentStatus</th>\n    </tr>\n    <tr>\n      <th>EdLevel</th>\n      <th></th>\n    </tr>\n  </thead>\n  <tbody>\n    <tr>\n      <th>Associate degree (A.A., A.S., etc.)</th>\n      <td>0.842105</td>\n    </tr>\n    <tr>\n      <th>Bachelor’s degree (B.A., B.S., B.Eng., etc.)</th>\n      <td>0.887499</td>\n    </tr>\n    <tr>\n      <th>I never completed any formal education</th>\n      <td>0.703854</td>\n    </tr>\n    <tr>\n      <th>Master’s degree (M.A., M.S., M.Eng., MBA, etc.)</th>\n      <td>0.934487</td>\n    </tr>\n    <tr>\n      <th>Other doctoral degree (Ph.D., Ed.D., etc.)</th>\n      <td>0.934911</td>\n    </tr>\n    <tr>\n      <th>Primary/elementary school</th>\n      <td>0.291180</td>\n    </tr>\n    <tr>\n      <th>Professional degree (JD, MD, etc.)</th>\n      <td>0.905000</td>\n    </tr>\n    <tr>\n      <th>Secondary school (e.g. American high school, German Realschule or Gymnasium, etc.)</th>\n      <td>0.465521</td>\n    </tr>\n    <tr>\n      <th>Some college/university study without earning a degree</th>\n      <td>0.770825</td>\n    </tr>\n  </tbody>\n</table>\n</div>"
     },
     "metadata": {},
     "execution_count": 20
    }
   ],
   "source": [
    "# Create a new dataframe dividing the counts of \"EmploymentStatus\" = \"Employed\", grouped by \"EdLevel\", by the total count of \"EmploymentStatus\" based on \"EdLevel\"\n",
    "df_results01 = df_narrowed[[\"EdLevel\", \"EmploymentStatus\"]][df_narrowed[\"EmploymentStatus\"] == \"Employed\"].groupby(\"EdLevel\").count() / df_narrowed[[\"EdLevel\", \"EmploymentStatus\"]].groupby(\"EdLevel\").count()\n",
    "\n",
    "df_results01"
   ]
  },
  {
   "cell_type": "code",
   "execution_count": null,
   "metadata": {},
   "outputs": [],
   "source": []
  }
 ]
}