{
 "metadata": {
  "language_info": {
   "codemirror_mode": {
    "name": "ipython",
    "version": 3
   },
   "file_extension": ".py",
   "mimetype": "text/x-python",
   "name": "python",
   "nbconvert_exporter": "python",
   "pygments_lexer": "ipython3",
   "version": "3.8.1-final"
  },
  "orig_nbformat": 2,
  "kernelspec": {
   "name": "python38132bitp1blogpipenva8241651e4354068bb7e1a17a093ceb9",
   "display_name": "Python 3.8.1 32-bit ('p1-blog': pipenv)"
  }
 },
 "nbformat": 4,
 "nbformat_minor": 2,
 "cells": [
  {
   "cell_type": "markdown",
   "metadata": {},
   "source": [
    "# My take on Stack Overflow Survey 2020\n",
    "\n",
    "Hi! My name is **Marcus**, and, upfront I want to thank you for your time assessing my code. This was coded for Project 1 of the Udacity\\'s Data Science Nanodegree. \n",
    "\n",
    "As you can see, I was deeply influenced by [Josh Bernhard's Medium post on how to become a programmer](https://medium.com/@josh_2774/how-do-you-become-a-developer-5ef1c1c68711). However, I'm more interested in descriptive analysis of the Doctoral degree holder type than in any predictive model. This is even more true when I realized that the recently published 2020's Stack Overflow survey's results are quite different than the 2017's one, notably with pratically no fields about how people broke into the field. Plus, one of the take aways from Josh's analyses was that this question is that there is no scientific-proven formula to break into the field. Additionally, I'm one of these degree holders looking forward to break into the industry and it wouldn't hurt to understand a bit further the influence of their field of origin in their outcome.\n",
    "\n",
    "You see, doctoral degrees varies a lot, especially in terms of programming experience and expertise. Someone with a degree in the humanities might not have to code a single line while someone from the computer science field will definitely have an edge. Thus, I'm deeply interested in knowing better my peers, especially the successfull ones. Who are they? What they are doing? What are their educational background? Do this background influences their outcome in job satisfaction and compensation?   \n",
    "\n",
    "Thus, here are my questions of interested, and how I pretend to present the data in my own blog post:\n",
    "\n",
    "Part I. Do you even work?\n",
    "\n",
    "1. What's the employment rate of the group and how does it compare with the other educational backgrounds?\n",
    "\n",
    "Part II. Ok, let's break it down.\n",
    "\n",
    "2. What's the employment rate per field of origin?\n",
    "3. What's the average programming experience, prior to first pro activity, per field of origin?\n",
    "4. What's the average compensation, prior to first pro activity, per field of origin?\n",
    "\n",
    "Part III. Is there a link between success and field of origin?\n",
    "\n",
    "5. For how long the successfull ones (compensation and job satisfaction) are coding, and what are their field of origin?\n",
    "\n",
    "For the sake of data exploration, I'll play a bit around with the data in this jupyter notebook befora tackling the questions at hand.\n"
   ]
  }
 ]
}